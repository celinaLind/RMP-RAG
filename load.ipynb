{
 "cells": [
  {
   "cell_type": "code",
   "execution_count": 1,
   "metadata": {},
   "outputs": [
    {
     "name": "stderr",
     "output_type": "stream",
     "text": [
      "/Users/lilyanhakim/anaconda3/envs/rag/lib/python3.10/site-packages/tqdm/auto.py:21: TqdmWarning: IProgress not found. Please update jupyter and ipywidgets. See https://ipywidgets.readthedocs.io/en/stable/user_install.html\n",
      "  from .autonotebook import tqdm as notebook_tqdm\n"
     ]
    }
   ],
   "source": [
    "from dotenv import load_dotenv\n",
    "load_dotenv()\n",
    "\n",
    "import os\n",
    "import google.generativeai as genai\n",
    "import json\n",
    "from pinecone import Pinecone, ServerlessSpec\n"
   ]
  },
  {
   "cell_type": "code",
   "execution_count": 2,
   "metadata": {},
   "outputs": [],
   "source": [
    "pc = Pinecone(api_key=os.getenv(\"PINECONE_API_KEY\"))\n",
    "pc.create_index(\n",
    "    name=\"rag\",\n",
    "    dimension= 768,\n",
    "    metric=\"cosine\",\n",
    "    spec=ServerlessSpec(cloud=\"aws\", region=\"us-east-1\")\n",
    ")"
   ]
  },
  {
   "cell_type": "code",
   "execution_count": 3,
   "metadata": {},
   "outputs": [
    {
     "data": {
      "text/plain": [
       "[{'professor': 'John Smith',\n",
       "  'subject': 'Physics',\n",
       "  'stars': 5,\n",
       "  'review': 'The professor was engaging and made the material easy to understand.'},\n",
       " {'professor': 'Emily Johnson',\n",
       "  'subject': 'Economics',\n",
       "  'stars': 4,\n",
       "  'review': 'Challenging course, but the professor was very knowledgeable.'},\n",
       " {'professor': 'Michael Brown',\n",
       "  'subject': 'Chemistry',\n",
       "  'stars': 3,\n",
       "  'review': \"The professor's lectures were very informative.\"},\n",
       " {'professor': 'Sarah Davis',\n",
       "  'subject': 'History',\n",
       "  'stars': 5,\n",
       "  'review': 'Great teaching style, very interactive.'},\n",
       " {'professor': 'David Taylor',\n",
       "  'subject': 'Biology',\n",
       "  'stars': 2,\n",
       "  'review': 'Material was difficult to follow at times.'},\n",
       " {'professor': 'Jessica White',\n",
       "  'subject': 'Philosophy',\n",
       "  'stars': 4,\n",
       "  'review': 'Very thought-provoking and engaging lectures.'},\n",
       " {'professor': 'James Martinez',\n",
       "  'subject': 'Sociology',\n",
       "  'stars': 5,\n",
       "  'review': 'Professor made the subject very interesting.'},\n",
       " {'professor': 'Laura Anderson',\n",
       "  'subject': 'Mathematics',\n",
       "  'stars': 3,\n",
       "  'review': 'The course was tough, but the professor was helpful.'},\n",
       " {'professor': 'Robert Clark',\n",
       "  'subject': 'Computer Science',\n",
       "  'stars': 4,\n",
       "  'review': 'Good balance of theory and practical examples.'},\n",
       " {'professor': 'Karen Lewis',\n",
       "  'subject': 'English Literature',\n",
       "  'stars': 2,\n",
       "  'review': 'Lectures could have been more engaging.'},\n",
       " {'professor': 'David Walker',\n",
       "  'subject': 'Physics',\n",
       "  'stars': 5,\n",
       "  'review': 'Excellent professor, very clear explanations.'},\n",
       " {'professor': 'Jessica Hall',\n",
       "  'subject': 'Economics',\n",
       "  'stars': 3,\n",
       "  'review': 'Course content was a bit dry, but well-organized.'},\n",
       " {'professor': 'Michael Young',\n",
       "  'subject': 'Chemistry',\n",
       "  'stars': 4,\n",
       "  'review': 'The professor was very approachable and helpful.'},\n",
       " {'professor': 'Sarah King',\n",
       "  'subject': 'History',\n",
       "  'stars': 5,\n",
       "  'review': 'Loved the class, very engaging professor.'},\n",
       " {'professor': 'James Wright',\n",
       "  'subject': 'Biology',\n",
       "  'stars': 3,\n",
       "  'review': 'Good course, but the professor was sometimes unclear.'},\n",
       " {'tutor': 'John Harris',\n",
       "  'subject': 'Algebra',\n",
       "  'stars': 4,\n",
       "  'review': 'Very helpful tutor, explained concepts clearly.'},\n",
       " {'tutor': 'Emily Martinez',\n",
       "  'subject': 'Calculus',\n",
       "  'stars': 5,\n",
       "  'review': 'The tutor was patient and helped me improve my grades significantly.'},\n",
       " {'tutor': 'Michael Clark',\n",
       "  'subject': 'Statistics',\n",
       "  'stars': 3,\n",
       "  'review': 'Good tutor, but sometimes hard to follow.'},\n",
       " {'tutor': 'Sarah Lewis',\n",
       "  'subject': 'Physics',\n",
       "  'stars': 5,\n",
       "  'review': 'The tutor provided great feedback on my assignments.'},\n",
       " {'tutor': 'David White',\n",
       "  'subject': 'Chemistry',\n",
       "  'stars': 4,\n",
       "  'review': 'Made complex topics easy to understand.'},\n",
       " {'tutor': 'Jessica Harris',\n",
       "  'subject': 'Biology',\n",
       "  'stars': 3,\n",
       "  'review': \"The tutor's sessions were very productive.\"},\n",
       " {'tutor': 'James Robinson',\n",
       "  'subject': 'Computer Science',\n",
       "  'stars': 5,\n",
       "  'review': 'Great tutor, very knowledgeable in the subject.'},\n",
       " {'tutor': 'Laura Martinez',\n",
       "  'subject': 'English',\n",
       "  'stars': 4,\n",
       "  'review': 'Helped me improve my writing skills a lot.'},\n",
       " {'tutor': 'Robert King',\n",
       "  'subject': 'Writing',\n",
       "  'stars': 3,\n",
       "  'review': 'The tutor was good but sometimes rushed.'},\n",
       " {'tutor': 'Karen Davis',\n",
       "  'subject': 'History',\n",
       "  'stars': 5,\n",
       "  'review': 'Very engaging and helpful tutor.'},\n",
       " {'tutor': 'David Walker',\n",
       "  'subject': 'Calculus',\n",
       "  'stars': 4,\n",
       "  'review': 'Great at breaking down difficult problems.'},\n",
       " {'tutor': 'Jessica Hall',\n",
       "  'subject': 'Algebra',\n",
       "  'stars': 5,\n",
       "  'review': 'Very patient and thorough tutor.'},\n",
       " {'tutor': 'Michael Wright',\n",
       "  'subject': 'Statistics',\n",
       "  'stars': 4,\n",
       "  'review': 'Good at explaining complex concepts.'},\n",
       " {'tutor': 'Sarah Taylor',\n",
       "  'subject': 'Biology',\n",
       "  'stars': 3,\n",
       "  'review': 'The tutor was helpful, but sometimes unclear.'},\n",
       " {'tutor': 'James Young',\n",
       "  'subject': 'Computer Science',\n",
       "  'stars': 5,\n",
       "  'review': 'Helped me a lot with my coding assignments.'},\n",
       " {'counselor': 'John Harris',\n",
       "  'subject': 'Career Counseling',\n",
       "  'stars': 5,\n",
       "  'review': 'Provided excellent guidance and support throughout the semester.'},\n",
       " {'counselor': 'Emily Martinez',\n",
       "  'subject': 'Academic Guidance',\n",
       "  'stars': 4,\n",
       "  'review': 'Very helpful with course selection and planning.'},\n",
       " {'counselor': 'Michael Clark',\n",
       "  'subject': 'Mental Health',\n",
       "  'stars': 5,\n",
       "  'review': 'Great counselor, really helped me with my stress management.'},\n",
       " {'counselor': 'Sarah Lewis',\n",
       "  'subject': 'Study Skills',\n",
       "  'stars': 4,\n",
       "  'review': 'Provided very useful tips for studying and time management.'},\n",
       " {'counselor': 'David White',\n",
       "  'subject': 'Time Management',\n",
       "  'stars': 3,\n",
       "  'review': 'Good advice, but sometimes hard to implement.'},\n",
       " {'counselor': 'Jessica Harris',\n",
       "  'subject': 'Stress Management',\n",
       "  'stars': 5,\n",
       "  'review': 'The counselor was very empathetic and supportive.'},\n",
       " {'counselor': 'James Robinson',\n",
       "  'subject': 'College Applications',\n",
       "  'stars': 4,\n",
       "  'review': 'Great help with my college application process.'},\n",
       " {'counselor': 'Laura Martinez',\n",
       "  'subject': 'Personal Development',\n",
       "  'stars': 5,\n",
       "  'review': 'The counselor provided excellent advice for personal growth.'},\n",
       " {'counselor': 'Robert King',\n",
       "  'subject': 'Conflict Resolution',\n",
       "  'stars': 3,\n",
       "  'review': 'Good strategies for resolving conflicts, but could use more examples.'},\n",
       " {'counselor': 'Karen Davis',\n",
       "  'subject': 'Goal Setting',\n",
       "  'stars': 4,\n",
       "  'review': 'Helped me set clear and achievable goals.'},\n",
       " {'counselor': 'David Walker',\n",
       "  'subject': 'Career Counseling',\n",
       "  'stars': 5,\n",
       "  'review': 'Very insightful and supportive counselor.'},\n",
       " {'counselor': 'Jessica Hall',\n",
       "  'subject': 'Academic Guidance',\n",
       "  'stars': 4,\n",
       "  'review': 'Provided great advice on course selection.'},\n",
       " {'counselor': 'Michael Wright',\n",
       "  'subject': 'Mental Health',\n",
       "  'stars': 5,\n",
       "  'review': 'Very supportive and understanding counselor.'},\n",
       " {'counselor': 'Sarah Taylor',\n",
       "  'subject': 'Study Skills',\n",
       "  'stars': 3,\n",
       "  'review': 'The tips were good, but not always applicable to my situation.'},\n",
       " {'counselor': 'James Young',\n",
       "  'subject': 'Time Management',\n",
       "  'stars': 4,\n",
       "  'review': 'Good advice on how to manage time effectively.'}]"
      ]
     },
     "execution_count": 3,
     "metadata": {},
     "output_type": "execute_result"
    }
   ],
   "source": [
    "import json\n",
    "data = json.load(open(\"reviews.json\"))\n",
    "data['reviews']"
   ]
  },
  {
   "cell_type": "code",
   "execution_count": 10,
   "metadata": {},
   "outputs": [
    {
     "name": "stderr",
     "output_type": "stream",
     "text": [
      "I0000 00:00:1724571870.709610 9920944 check_gcp_environment_no_op.cc:29] ALTS: Platforms other than Linux and Windows are not supported\n"
     ]
    }
   ],
   "source": [
    "processed_data = []\n",
    "genai.configure(api_key=os.getenv(\"GEMINI_API_KEY\"))\n",
    "\n",
    "for review in data[\"reviews\"]:\n",
    "    response = genai.embed_content(\n",
    "        content=review['review'], \n",
    "        model=\"models/text-embedding-004\"\n",
    "    )\n",
    "    embedding = response.get('embedding', None)\n",
    "\n",
    "    if embedding is not None:\n",
    "        processed_data.append(\n",
    "          {\n",
    "            \"values\": embedding,\n",
    "            \"id\": review.get('professor') or review.get('tutor') or review.get('counselor'),\n",
    "            \"metadata\":{\n",
    "                \"review\": review[\"review\"],\n",
    "                \"subject\": review[\"subject\"],\n",
    "                \"stars\": review[\"stars\"],\n",
    "            }\n",
    "        }\n",
    "    )\n",
    "    else:\n",
    "        print(\"Error: 'embedding' key not found in response\")\n",
    "    "
   ]
  },
  {
   "cell_type": "code",
   "execution_count": 11,
   "metadata": {},
   "outputs": [
    {
     "name": "stdout",
     "output_type": "stream",
     "text": [
      "Upserted count: 45\n"
     ]
    }
   ],
   "source": [
    "index = pc.Index('rag')\n",
    "upsert_response = index.upsert(\n",
    "    vectors=processed_data,\n",
    "    namespace=\"ns1\",\n",
    ")\n",
    "print(f\"Upserted count: {upsert_response['upserted_count']}\")"
   ]
  },
  {
   "cell_type": "code",
   "execution_count": 14,
   "metadata": {},
   "outputs": [
    {
     "data": {
      "text/plain": [
       "{'dimension': 768,\n",
       " 'index_fullness': 0.0,\n",
       " 'namespaces': {'ns1': {'vector_count': 28}},\n",
       " 'total_vector_count': 28}"
      ]
     },
     "execution_count": 14,
     "metadata": {},
     "output_type": "execute_result"
    }
   ],
   "source": [
    "index.describe_index_stats()"
   ]
  }
 ],
 "metadata": {
  "kernelspec": {
   "display_name": "Python 3",
   "language": "python",
   "name": "python3"
  },
  "language_info": {
   "codemirror_mode": {
    "name": "ipython",
    "version": 3
   },
   "file_extension": ".py",
   "mimetype": "text/x-python",
   "name": "python",
   "nbconvert_exporter": "python",
   "pygments_lexer": "ipython3",
   "version": "3.10.4"
  }
 },
 "nbformat": 4,
 "nbformat_minor": 2
}
