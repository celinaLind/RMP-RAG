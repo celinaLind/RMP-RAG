{
 "cells": [
  {
   "cell_type": "code",
   "execution_count": 9,
   "metadata": {},
   "outputs": [],
   "source": [
    "from dotenv import load_dotenv\n",
    "load_dotenv()\n",
    "import os\n",
    "from openai import OpenAI\n",
    "from pinecone import Pinecone, ServerlessSpec\n",
    "from langchain_community.embeddings import HuggingFaceEmbeddings"
   ]
  },
  {
   "cell_type": "code",
   "execution_count": 4,
   "metadata": {},
   "outputs": [],
   "source": [
    "pc = Pinecone(api_key=os.getenv(\"PINECONE_API_KEY\"))\n",
    "# Create a new index -> metric: cosine (finds answers based on cosine similarity), dimension: 128 (each vector has 128 dimensions)\n",
    "# pc.create_index(name=\"rag\", metric=\"cosine\", dimension=128, spec=ServerlessSpec(\n",
    "#         cloud=\"aws\",\n",
    "#         region=\"us-east-1\"\n",
    "#     )) "
   ]
  },
  {
   "cell_type": "code",
   "execution_count": 5,
   "metadata": {},
   "outputs": [
    {
     "data": {
      "text/plain": [
       "[{'professor': 'Dr. Emily Chen',\n",
       "  'rating': 4,\n",
       "  'subject': 'Biology',\n",
       "  'review': \"Dr. Chen's lectures are engaging and well-structured. She's always willing to help during office hours.\"},\n",
       " {'professor': 'Prof. Michael Johnson',\n",
       "  'rating': 3,\n",
       "  'subject': 'History',\n",
       "  'review': 'Prof. Johnson knows his subject well, but his lectures can be dry at times. Assignments are fair.'},\n",
       " {'professor': 'Dr. Sarah Williams',\n",
       "  'rating': 5,\n",
       "  'subject': 'Computer Science',\n",
       "  'review': 'Brilliant professor! Dr. Williams explains complex concepts clearly and provides great real-world examples.'},\n",
       " {'professor': 'Prof. David Lee',\n",
       "  'rating': 2,\n",
       "  'subject': 'Mathematics',\n",
       "  'review': \"Prof. Lee's teaching style is confusing. Often seems unprepared for class and struggles to answer questions.\"},\n",
       " {'professor': 'Dr. Amanda Rodriguez',\n",
       "  'rating': 4,\n",
       "  'subject': 'Psychology',\n",
       "  'review': 'Dr. Rodriguez is passionate about her field and it shows. Her classes are thought-provoking and interactive.'},\n",
       " {'professor': 'Prof. Robert Taylor',\n",
       "  'rating': 3,\n",
       "  'subject': 'English Literature',\n",
       "  'review': 'Prof. Taylor has extensive knowledge but can be intimidating. Grading is strict but fair.'},\n",
       " {'professor': 'Dr. Lisa Brown',\n",
       "  'rating': 5,\n",
       "  'subject': 'Chemistry',\n",
       "  'review': 'Dr. Brown is an exceptional teacher. Her labs are well-organized and she explains concepts clearly.'},\n",
       " {'professor': 'Prof. James Wilson',\n",
       "  'rating': 1,\n",
       "  'subject': 'Philosophy',\n",
       "  'review': 'Prof. Wilson often cancels classes and seems disinterested. Lectures are hard to follow and assignments are unclear.'},\n",
       " {'professor': 'Dr. Jennifer Martinez',\n",
       "  'rating': 4,\n",
       "  'subject': 'Economics',\n",
       "  'review': 'Dr. Martinez brings real-world experience to her classes. Her exams are challenging but fair.'},\n",
       " {'professor': 'Prof. Thomas Anderson',\n",
       "  'rating': 3,\n",
       "  'subject': 'Physics',\n",
       "  'review': 'Prof. Anderson is knowledgeable but can be impatient with questions. His problem sets are very difficult.'},\n",
       " {'professor': 'Dr. Karen White',\n",
       "  'rating': 5,\n",
       "  'subject': 'Sociology',\n",
       "  'review': 'Dr. White is inspiring and approachable. Her classes encourage critical thinking and open discussion.'},\n",
       " {'professor': 'Prof. Christopher Davis',\n",
       "  'rating': 2,\n",
       "  'subject': 'Art History',\n",
       "  'review': 'Prof. Davis seems knowledgeable but his lectures are disorganized and hard to follow.'},\n",
       " {'professor': 'Dr. Michelle Garcia',\n",
       "  'rating': 4,\n",
       "  'subject': 'Environmental Science',\n",
       "  'review': 'Dr. Garcia is passionate about her subject and organizes interesting field trips. Assignments can be time-consuming.'},\n",
       " {'professor': 'Prof. Daniel Kim',\n",
       "  'rating': 3,\n",
       "  'subject': 'Political Science',\n",
       "  'review': \"Prof. Kim's lectures are informative but can be monotonous. He's helpful during office hours.\"},\n",
       " {'professor': 'Dr. Rachel Green',\n",
       "  'rating': 5,\n",
       "  'subject': 'Neuroscience',\n",
       "  'review': 'Dr. Green is an outstanding educator. Her classes are challenging but incredibly rewarding.'},\n",
       " {'professor': 'Prof. Steven Miller',\n",
       "  'rating': 2,\n",
       "  'subject': 'Statistics',\n",
       "  'review': \"Prof. Miller often seems rushed and irritable. His explanations can be confusing and he's not very approachable.\"},\n",
       " {'professor': 'Dr. Laura Thompson',\n",
       "  'rating': 4,\n",
       "  'subject': 'Anthropology',\n",
       "  'review': 'Dr. Thompson brings her field experience into the classroom, making lectures fascinating. Grading can be inconsistent.'},\n",
       " {'professor': 'Prof. Richard Clark',\n",
       "  'rating': 3,\n",
       "  'subject': 'Business Administration',\n",
       "  'review': 'Prof. Clark has good industry connections but his teaching style is average. Group projects are well-structured.'},\n",
       " {'professor': 'Dr. Elizabeth Turner',\n",
       "  'rating': 5,\n",
       "  'subject': 'Linguistics',\n",
       "  'review': 'Dr. Turner is exceptional. Her classes are engaging, challenging, and she provides excellent feedback on assignments.'},\n",
       " {'professor': 'Prof. William Baker',\n",
       "  'rating': 1,\n",
       "  'subject': 'Mechanical Engineering',\n",
       "  'review': \"Prof. Baker seems uninterested in teaching. Lectures are poorly prepared and he's rarely available for help.\"}]"
      ]
     },
     "execution_count": 5,
     "metadata": {},
     "output_type": "execute_result"
    }
   ],
   "source": [
    "import json \n",
    "data = json.load(open(\"reviews.json\"))\n",
    "data[\"reviews\"]"
   ]
  },
  {
   "cell_type": "code",
   "execution_count": 15,
   "metadata": {},
   "outputs": [
    {
     "name": "stdout",
     "output_type": "stream",
     "text": [
      "Error processing review: Dr. Chen's lectures are engaging and well-structured. She's always willing to help during office hours.: Error code: 405\n",
      "Error processing review: Prof. Johnson knows his subject well, but his lectures can be dry at times. Assignments are fair.: Error code: 405\n",
      "Error processing review: Brilliant professor! Dr. Williams explains complex concepts clearly and provides great real-world examples.: Error code: 405\n",
      "Error processing review: Prof. Lee's teaching style is confusing. Often seems unprepared for class and struggles to answer questions.: Error code: 405\n",
      "Error processing review: Dr. Rodriguez is passionate about her field and it shows. Her classes are thought-provoking and interactive.: Error code: 405\n",
      "Error processing review: Prof. Taylor has extensive knowledge but can be intimidating. Grading is strict but fair.: Error code: 405\n",
      "Error processing review: Dr. Brown is an exceptional teacher. Her labs are well-organized and she explains concepts clearly.: Error code: 405\n",
      "Error processing review: Prof. Wilson often cancels classes and seems disinterested. Lectures are hard to follow and assignments are unclear.: Error code: 405\n",
      "Error processing review: Dr. Martinez brings real-world experience to her classes. Her exams are challenging but fair.: Error code: 405\n",
      "Error processing review: Prof. Anderson is knowledgeable but can be impatient with questions. His problem sets are very difficult.: Error code: 405\n",
      "Error processing review: Dr. White is inspiring and approachable. Her classes encourage critical thinking and open discussion.: Error code: 405\n",
      "Error processing review: Prof. Davis seems knowledgeable but his lectures are disorganized and hard to follow.: Error code: 405\n",
      "Error processing review: Dr. Garcia is passionate about her subject and organizes interesting field trips. Assignments can be time-consuming.: Error code: 405\n",
      "Error processing review: Prof. Kim's lectures are informative but can be monotonous. He's helpful during office hours.: Error code: 405\n",
      "Error processing review: Dr. Green is an outstanding educator. Her classes are challenging but incredibly rewarding.: Error code: 405\n",
      "Error processing review: Prof. Miller often seems rushed and irritable. His explanations can be confusing and he's not very approachable.: Error code: 405\n",
      "Error processing review: Dr. Thompson brings her field experience into the classroom, making lectures fascinating. Grading can be inconsistent.: Error code: 405\n",
      "Error processing review: Prof. Clark has good industry connections but his teaching style is average. Group projects are well-structured.: Error code: 405\n",
      "Error processing review: Dr. Turner is exceptional. Her classes are engaging, challenging, and she provides excellent feedback on assignments.: Error code: 405\n",
      "Error processing review: Prof. Baker seems uninterested in teaching. Lectures are poorly prepared and he's rarely available for help.: Error code: 405\n"
     ]
    }
   ],
   "source": [
    "processed_data = []\n",
    "client = OpenAI(\n",
    "    base_url=\"https://openrouter.ai/api/v1\",\n",
    "    api_key=os.getenv(\"OPENROUTER_API_KEY\")\n",
    ")\n",
    "\n",
    "for review in data[\"reviews\"]:\n",
    "    try:\n",
    "        embeddingResponse = await client.embeddings.create(\n",
    "            model='huggingfaceh4/zephyr-7b-beta:free',\n",
    "            input= review[\"review\"]\n",
    "        );\n",
    "\n",
    "        embedding = embeddingResponse['data'][0]['embedding']\n",
    "\n",
    "        processed_data.append({\n",
    "            \"values\": embedding,\n",
    "            \"id\": review[\"professor\"],\n",
    "            \"metadata\": {\n",
    "                \"stars\": review[\"stars\"],\n",
    "                \"subject\": review[\"subject\"],\n",
    "                \"review\": review[\"review\"]\n",
    "            }\n",
    "        })\n",
    "    except Exception as e:\n",
    "        print(f\"Error processing review: {review['review']}: {e}\")\n",
    "    \n",
    "#     # Load a pre-trained LLaMA model\n",
    "#     # client = Groq(model=\"llama3-70b-8192\", api_key=os.getenv(\"GROQ_API_KEY\"))\n",
    "#     client = groq.Client(api_key=os.getenv(\"GROQ_API_KEY\"))"
   ]
  },
  {
   "cell_type": "code",
   "execution_count": null,
   "metadata": {},
   "outputs": [],
   "source": []
  }
 ],
 "metadata": {
  "kernelspec": {
   "display_name": "rag",
   "language": "python",
   "name": "python3"
  },
  "language_info": {
   "codemirror_mode": {
    "name": "ipython",
    "version": 3
   },
   "file_extension": ".py",
   "mimetype": "text/x-python",
   "name": "python",
   "nbconvert_exporter": "python",
   "pygments_lexer": "ipython3",
   "version": "3.10.14"
  }
 },
 "nbformat": 4,
 "nbformat_minor": 2
}
